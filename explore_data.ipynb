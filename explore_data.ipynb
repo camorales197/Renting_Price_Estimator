{
 "cells": [
  {
   "cell_type": "code",
   "execution_count": 1,
   "metadata": {},
   "outputs": [],
   "source": [
    "import pandas as pd\n",
    "from sklearn.model_selection import train_test_split\n",
    "from sklearn.linear_model import LinearRegression\n",
    "from sklearn.metrics import mean_squared_error\n",
    "from sklearn.metrics import r2_score\n",
    "\n",
    "pd.set_option('display.max_columns', None)\n"
   ]
  },
  {
   "cell_type": "code",
   "execution_count": 2,
   "metadata": {
    "scrolled": true
   },
   "outputs": [
    {
     "data": {
      "text/html": [
       "<div>\n",
       "<style scoped>\n",
       "    .dataframe tbody tr th:only-of-type {\n",
       "        vertical-align: middle;\n",
       "    }\n",
       "\n",
       "    .dataframe tbody tr th {\n",
       "        vertical-align: top;\n",
       "    }\n",
       "\n",
       "    .dataframe thead th {\n",
       "        text-align: right;\n",
       "    }\n",
       "</style>\n",
       "<table border=\"1\" class=\"dataframe\">\n",
       "  <thead>\n",
       "    <tr style=\"text-align: right;\">\n",
       "      <th></th>\n",
       "      <th>propertyCode</th>\n",
       "      <th>numPhotos</th>\n",
       "      <th>floor</th>\n",
       "      <th>price</th>\n",
       "      <th>propertyType</th>\n",
       "      <th>size</th>\n",
       "      <th>exterior</th>\n",
       "      <th>rooms</th>\n",
       "      <th>bathrooms</th>\n",
       "      <th>district</th>\n",
       "      <th>showAddress</th>\n",
       "      <th>hasVideo</th>\n",
       "      <th>hasLift</th>\n",
       "      <th>hasPlan</th>\n",
       "      <th>has3DTour</th>\n",
       "      <th>has360</th>\n",
       "      <th>parkingSpace</th>\n",
       "    </tr>\n",
       "  </thead>\n",
       "  <tbody>\n",
       "    <tr>\n",
       "      <th>0</th>\n",
       "      <td>89896113</td>\n",
       "      <td>22</td>\n",
       "      <td>3</td>\n",
       "      <td>680.0</td>\n",
       "      <td>flat</td>\n",
       "      <td>64.0</td>\n",
       "      <td>False</td>\n",
       "      <td>3</td>\n",
       "      <td>1</td>\n",
       "      <td>Villaverde</td>\n",
       "      <td>True</td>\n",
       "      <td>False</td>\n",
       "      <td>False</td>\n",
       "      <td>True</td>\n",
       "      <td>False</td>\n",
       "      <td>False</td>\n",
       "      <td>NaN</td>\n",
       "    </tr>\n",
       "    <tr>\n",
       "      <th>1</th>\n",
       "      <td>89716445</td>\n",
       "      <td>22</td>\n",
       "      <td>3</td>\n",
       "      <td>680.0</td>\n",
       "      <td>flat</td>\n",
       "      <td>64.0</td>\n",
       "      <td>False</td>\n",
       "      <td>3</td>\n",
       "      <td>1</td>\n",
       "      <td>Villaverde</td>\n",
       "      <td>True</td>\n",
       "      <td>True</td>\n",
       "      <td>False</td>\n",
       "      <td>True</td>\n",
       "      <td>False</td>\n",
       "      <td>True</td>\n",
       "      <td>NaN</td>\n",
       "    </tr>\n",
       "    <tr>\n",
       "      <th>2</th>\n",
       "      <td>89853301</td>\n",
       "      <td>1</td>\n",
       "      <td>bj</td>\n",
       "      <td>580.0</td>\n",
       "      <td>flat</td>\n",
       "      <td>35.0</td>\n",
       "      <td>True</td>\n",
       "      <td>1</td>\n",
       "      <td>1</td>\n",
       "      <td>Villaverde</td>\n",
       "      <td>False</td>\n",
       "      <td>False</td>\n",
       "      <td>False</td>\n",
       "      <td>False</td>\n",
       "      <td>False</td>\n",
       "      <td>False</td>\n",
       "      <td>NaN</td>\n",
       "    </tr>\n",
       "  </tbody>\n",
       "</table>\n",
       "</div>"
      ],
      "text/plain": [
       "   propertyCode  numPhotos floor  price propertyType  size  exterior  rooms  \\\n",
       "0      89896113         22     3  680.0         flat  64.0     False      3   \n",
       "1      89716445         22     3  680.0         flat  64.0     False      3   \n",
       "2      89853301          1    bj  580.0         flat  35.0      True      1   \n",
       "\n",
       "   bathrooms    district  showAddress  hasVideo hasLift  hasPlan  has3DTour  \\\n",
       "0          1  Villaverde         True     False   False     True      False   \n",
       "1          1  Villaverde         True      True   False     True      False   \n",
       "2          1  Villaverde        False     False   False    False      False   \n",
       "\n",
       "   has360 parkingSpace  \n",
       "0   False          NaN  \n",
       "1    True          NaN  \n",
       "2   False          NaN  "
      ]
     },
     "execution_count": 2,
     "metadata": {},
     "output_type": "execute_result"
    }
   ],
   "source": [
    "df = pd.read_csv(\"data.csv\", error_bad_lines=False, header=0, sep=\"\\t\")\n",
    "df.drop([\n",
    "    \"Unnamed: 0\",\n",
    "    \"index\",\n",
    "    \"thumbnail\",\n",
    "    \"externalReference\",\n",
    "    \"operation\",\n",
    "    \"address\",\n",
    "    \"province\",\n",
    "    \"municipality\",\n",
    "    \"country\",\n",
    "    \"url\",\n",
    "    \"distance\",\n",
    "    \"suggestedTexts\",\n",
    "    \"detailedType\",\n",
    "    \"status\",\n",
    "    \"newDevelopment\",\n",
    "    \"topNewDevelopment\",\n",
    "    \"neighborhood\",\n",
    "    \"priceByArea\",\n",
    "    \"latitude\",\n",
    "    \"longitude\"\n",
    "], axis=1, inplace=True)\n",
    "\n",
    "df.head(3)"
   ]
  },
  {
   "cell_type": "code",
   "execution_count": 3,
   "metadata": {},
   "outputs": [],
   "source": [
    "df_x = df.drop(\"price\", axis=1)\n",
    "df_y = df[\"price\"]\n",
    "\n",
    "df[\"hasLift\"] = df[\"hasLift\"].astype(bool)"
   ]
  },
  {
   "cell_type": "code",
   "execution_count": 4,
   "metadata": {},
   "outputs": [],
   "source": [
    "df[\"isParkingSpaceIncludedInPrice\"] = False\n",
    "df[\"hasParkingSpace\"] = False\n",
    "\n",
    "for index, rows in df.iterrows():\n",
    "    try:\n",
    "        df.loc[index, [\"isParkingSpaceIncludedInPrice\"]] =  eval(rows[\"parkingSpace\"]).get(\"isParkingSpaceIncludedInPrice\")\n",
    "        df.loc[index, [\"hasParkingSpace\"]] =  eval(rows[\"parkingSpace\"]).get(\"hasParkingSpace\")\n",
    "    except:\n",
    "        pass\n",
    "\n",
    "df.drop(\"parkingSpace\", axis=1, inplace=True)\n"
   ]
  },
  {
   "cell_type": "code",
   "execution_count": 5,
   "metadata": {},
   "outputs": [
    {
     "data": {
      "text/plain": [
       "exterior                        -0.466109\n",
       "has3DTour                       -0.068806\n",
       "propertyCode                    -0.018524\n",
       "showAddress                      0.068955\n",
       "has360                           0.077445\n",
       "hasParkingSpace                  0.134041\n",
       "hasPlan                          0.142339\n",
       "isParkingSpaceIncludedInPrice    0.151017\n",
       "hasVideo                         0.154974\n",
       "hasLift                          0.207176\n",
       "numPhotos                        0.351007\n",
       "rooms                            0.708376\n",
       "bathrooms                        0.786479\n",
       "size                             0.887713\n",
       "price                            1.000000\n",
       "Name: price, dtype: float64"
      ]
     },
     "execution_count": 5,
     "metadata": {},
     "output_type": "execute_result"
    }
   ],
   "source": [
    "df.corr()[\"price\"].sort_values()"
   ]
  },
  {
   "cell_type": "code",
   "execution_count": 6,
   "metadata": {},
   "outputs": [
    {
     "data": {
      "text/plain": [
       "propertyCode                       int64\n",
       "numPhotos                          int64\n",
       "floor                             object\n",
       "price                            float64\n",
       "propertyType                      object\n",
       "size                             float64\n",
       "exterior                            bool\n",
       "rooms                              int64\n",
       "bathrooms                          int64\n",
       "district                          object\n",
       "showAddress                         bool\n",
       "hasVideo                            bool\n",
       "hasLift                             bool\n",
       "hasPlan                             bool\n",
       "has3DTour                           bool\n",
       "has360                              bool\n",
       "isParkingSpaceIncludedInPrice       bool\n",
       "hasParkingSpace                     bool\n",
       "dtype: object"
      ]
     },
     "execution_count": 6,
     "metadata": {},
     "output_type": "execute_result"
    }
   ],
   "source": [
    "df.dtypes"
   ]
  },
  {
   "cell_type": "code",
   "execution_count": 7,
   "metadata": {},
   "outputs": [
    {
     "data": {
      "text/plain": [
       "3+    199\n",
       "2     100\n",
       "1      97\n",
       "0      54\n",
       "Name: floor, dtype: int64"
      ]
     },
     "execution_count": 7,
     "metadata": {},
     "output_type": "execute_result"
    }
   ],
   "source": [
    "# sustituir \"baj\" por 0 y tramear\n",
    "\n",
    "df.loc[df[\"floor\"] == \"bj\", [\"floor\"]] = 0\n",
    "df.loc[df[\"floor\"] == \"1\", [\"floor\"]] = 1\n",
    "df.loc[df[\"floor\"] == \"2\", [\"floor\"]] = 2\n",
    "\n",
    "df.astype({\"floor\": float}, errors=\"ignore\")\n",
    "df.loc[~df[\"floor\"].isin([0,1,2]), [\"floor\"]] = \"3+\"\n",
    "df[\"floor\"].value_counts()"
   ]
  },
  {
   "cell_type": "code",
   "execution_count": 8,
   "metadata": {},
   "outputs": [
    {
     "data": {
      "text/plain": [
       "flat         278\n",
       "chalet        98\n",
       "duplex        32\n",
       "penthouse     28\n",
       "studio        14\n",
       "Name: propertyType, dtype: int64"
      ]
     },
     "execution_count": 8,
     "metadata": {},
     "output_type": "execute_result"
    }
   ],
   "source": [
    "df[\"propertyType\"].value_counts() #a dummy"
   ]
  },
  {
   "cell_type": "code",
   "execution_count": 9,
   "metadata": {},
   "outputs": [
    {
     "data": {
      "text/plain": [
       "Encinar de los Reyes                   175\n",
       "Villaverde                              45\n",
       "Zona Prado de Somosaguas - La Finca     35\n",
       "Barajas                                 34\n",
       "Villa de Vallecas                       28\n",
       "San Blas                                26\n",
       "Zona norte                              25\n",
       "Hortaleza                               20\n",
       "Fuencarral                              15\n",
       "Zona Pueblo                             15\n",
       "Carabanchel                             13\n",
       "Moncloa                                  8\n",
       "Zona Avenida Europa                      4\n",
       "Vicálvaro                                3\n",
       "Latina                                   3\n",
       "Zona Estación                            1\n",
       "Name: district, dtype: int64"
      ]
     },
     "execution_count": 9,
     "metadata": {},
     "output_type": "execute_result"
    }
   ],
   "source": [
    "df[\"district\"].value_counts() #a dummy"
   ]
  },
  {
   "cell_type": "code",
   "execution_count": 10,
   "metadata": {},
   "outputs": [],
   "source": [
    "df_dummies = pd.get_dummies(df)"
   ]
  },
  {
   "cell_type": "code",
   "execution_count": 11,
   "metadata": {},
   "outputs": [
    {
     "data": {
      "text/plain": [
       "propertyType_flat                              -0.468345\n",
       "exterior                                       -0.466109\n",
       "district_Villaverde                            -0.217198\n",
       "district_Villa de Vallecas                     -0.162662\n",
       "district_San Blas                              -0.146995\n",
       "floor_1                                        -0.133540\n",
       "district_Barajas                               -0.126237\n",
       "propertyType_studio                            -0.118557\n",
       "district_Carabanchel                           -0.109190\n",
       "district_Fuencarral                            -0.104823\n",
       "district_Zona Pueblo                           -0.104025\n",
       "floor_2                                        -0.103201\n",
       "floor_0                                        -0.086321\n",
       "district_Hortaleza                             -0.085370\n",
       "has3DTour                                      -0.068806\n",
       "district_Latina                                -0.046649\n",
       "district_Zona Avenida Europa                   -0.036118\n",
       "district_Vicálvaro                             -0.028405\n",
       "district_Zona norte                            -0.027843\n",
       "propertyCode                                   -0.018524\n",
       "propertyType_duplex                            -0.017959\n",
       "district_Zona Estación                         -0.012310\n",
       "propertyType_penthouse                          0.011767\n",
       "showAddress                                     0.068955\n",
       "has360                                          0.077445\n",
       "hasParkingSpace                                 0.134041\n",
       "hasPlan                                         0.142339\n",
       "isParkingSpaceIncludedInPrice                   0.151017\n",
       "hasVideo                                        0.154974\n",
       "district_Encinar de los Reyes                   0.161340\n",
       "district_Moncloa                                0.162101\n",
       "hasLift                                         0.207176\n",
       "floor_3+                                        0.253435\n",
       "numPhotos                                       0.351007\n",
       "district_Zona Prado de Somosaguas - La Finca    0.604376\n",
       "propertyType_chalet                             0.605569\n",
       "rooms                                           0.708376\n",
       "bathrooms                                       0.786479\n",
       "size                                            0.887713\n",
       "price                                           1.000000\n",
       "Name: price, dtype: float64"
      ]
     },
     "execution_count": 11,
     "metadata": {},
     "output_type": "execute_result"
    }
   ],
   "source": [
    "df_dummies.corr()[\"price\"].sort_values()"
   ]
  },
  {
   "cell_type": "code",
   "execution_count": 12,
   "metadata": {},
   "outputs": [],
   "source": [
    "X = df_dummies.drop(\"price\", axis=1)\n",
    "y = df_dummies[\"price\"]\n",
    "\n",
    "X_train, X_test, y_train, y_test = train_test_split(X, y, test_size=0.33, random_state=42)\n"
   ]
  },
  {
   "cell_type": "code",
   "execution_count": 13,
   "metadata": {},
   "outputs": [
    {
     "data": {
      "text/plain": [
       "0.8341358419300042"
      ]
     },
     "execution_count": 13,
     "metadata": {},
     "output_type": "execute_result"
    }
   ],
   "source": [
    "reg = LinearRegression().fit(X_train, y_train)\n",
    "prediction = reg.predict(X_test)\n",
    "r2_score(y_test, prediction)"
   ]
  }
 ],
 "metadata": {
  "kernelspec": {
   "display_name": "Python 3",
   "language": "python",
   "name": "python3"
  },
  "language_info": {
   "codemirror_mode": {
    "name": "ipython",
    "version": 3
   },
   "file_extension": ".py",
   "mimetype": "text/x-python",
   "name": "python",
   "nbconvert_exporter": "python",
   "pygments_lexer": "ipython3",
   "version": "3.7.5"
  },
  "toc": {
   "base_numbering": 1,
   "nav_menu": {},
   "number_sections": true,
   "sideBar": true,
   "skip_h1_title": false,
   "title_cell": "Table of Contents",
   "title_sidebar": "Contents",
   "toc_cell": false,
   "toc_position": {},
   "toc_section_display": true,
   "toc_window_display": false
  }
 },
 "nbformat": 4,
 "nbformat_minor": 2
}
